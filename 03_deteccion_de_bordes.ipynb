{
 "cells": [
  {
   "cell_type": "code",
   "execution_count": 1,
   "id": "63340c69",
   "metadata": {},
   "outputs": [],
   "source": [
    "import cv2\n",
    "import numpy as np"
   ]
  },
  {
   "cell_type": "markdown",
   "id": "733e12f9",
   "metadata": {},
   "source": [
    "# Deteccion de bordes"
   ]
  },
  {
   "cell_type": "code",
   "execution_count": 2,
   "id": "f3742f91",
   "metadata": {},
   "outputs": [
    {
     "data": {
      "text/plain": [
       "-1"
      ]
     },
     "execution_count": 2,
     "metadata": {},
     "output_type": "execute_result"
    }
   ],
   "source": [
    "img = cv2.imread('imagenes/rosas/calidad/IMG_20210322_140219.jpg')\n",
    "img = cv2.resize(img, (500, 550))\n",
    "# convertimos la imagen en un arreglo de numpy\n",
    "img_array = np.array(img)\n",
    "# print(img_array)\n",
    "\n",
    "img_BGR = img_array[:, :, ::-1]\n",
    "#print(img_BGR)\n",
    "\n",
    "img_gray = cv2.cvtColor(img, cv2.COLOR_BGR2GRAY)\n",
    "\n",
    "img_blur = cv2.blur(img_gray, (2,2))\n",
    "\n",
    "img_canny = cv2.Canny(img_blur, 50, 150)\n",
    "\n",
    "img_dilate = cv2.dilate(img_canny, None, iterations = 1)\n",
    "\n",
    "cv2.imshow('Original', img)\n",
    "cv2.imshow('Blur', img_blur)\n",
    "cv2.imshow('Canny', img_canny)\n",
    "cv2.imshow('Bordes detectados', img_dilate)\n",
    "cv2.waitKey(0)"
   ]
  },
  {
   "cell_type": "code",
   "execution_count": null,
   "id": "d486875f",
   "metadata": {},
   "outputs": [],
   "source": [
    "# color de una rosa maltratada rgb 65, 47, 71\n",
    "# hsv 285, 33, 27"
   ]
  }
 ],
 "metadata": {
  "kernelspec": {
   "display_name": "Python 3",
   "language": "python",
   "name": "python3"
  },
  "language_info": {
   "codemirror_mode": {
    "name": "ipython",
    "version": 3
   },
   "file_extension": ".py",
   "mimetype": "text/x-python",
   "name": "python",
   "nbconvert_exporter": "python",
   "pygments_lexer": "ipython3",
   "version": "3.8.8"
  }
 },
 "nbformat": 4,
 "nbformat_minor": 5
}
