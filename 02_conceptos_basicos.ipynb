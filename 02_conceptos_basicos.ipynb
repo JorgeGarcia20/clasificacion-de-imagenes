{
 "cells": [
  {
   "cell_type": "markdown",
   "id": "b750c60b",
   "metadata": {},
   "source": [
    "# Deteccion de colores en OpenCV\n",
    "\n",
    "## HSV (Hue, Saturation, Value)\n",
    "\n",
    "El espacio de color HSV posee tres componentes como el espacio de color RGB.\n",
    "\n",
    "Para determinar un color nos centraremos en el componente H que corresponde al matiz"
   ]
  },
  {
   "cell_type": "code",
   "execution_count": 2,
   "id": "cef4aebc",
   "metadata": {},
   "outputs": [],
   "source": [
    "import cv2\n",
    "import numpy as np"
   ]
  },
  {
   "cell_type": "code",
   "execution_count": 3,
   "id": "5bb94d11",
   "metadata": {},
   "outputs": [
    {
     "data": {
      "text/plain": [
       "-1"
      ]
     },
     "execution_count": 3,
     "metadata": {},
     "output_type": "execute_result"
    }
   ],
   "source": [
    "rosa = cv2.imread('imagenes/rosas/calidad/IMG_20210322_140513.jpg')\n",
    "rosa = cv2.resize(rosa, (480, 550))\n",
    "\n",
    "# Transformar de BGR a HSV\n",
    "image = cv2.cvtColor(rosa, cv2.COLOR_BGR2HSV)\n",
    "\n",
    "# detectamos los rasgos en donde se encuentra el color a detectar\n",
    "redBajo1 = np.array([0, 100, 20], np.uint8)\n",
    "redAlto1 = np.array([8, 255, 255], np.uint8)\n",
    "redBajo2 = np.array([175, 100, 20], np.uint8)\n",
    "redAlto2 = np.array([179, 255, 255], np.uint8)\n",
    "\n",
    "maskRed1 = cv2.inRange(image, redBajo1, redAlto1)\n",
    "maskRed2 = cv2.inRange(image, redBajo2, redAlto2)\n",
    "maskRed = cv2.add(maskRed1, maskRed2)\n",
    "maskRedvis = cv2.bitwise_and(image, image, mask= maskRed)\n",
    "\n",
    "cv2.imshow('Original', rosa)\n",
    "cv2.imshow('Mascara roja', maskRed)\n",
    "cv2.imshow('Mascara roja visible', maskRedvis)\n",
    "cv2.waitKey(0)"
   ]
  },
  {
   "cell_type": "markdown",
   "id": "85b3f4f5",
   "metadata": {},
   "source": [
    "# Encontrar los contornos correspondientes al color rojo"
   ]
  },
  {
   "cell_type": "code",
   "execution_count": 7,
   "id": "633e3a5c",
   "metadata": {},
   "outputs": [
    {
     "data": {
      "text/plain": [
       "-1"
      ]
     },
     "execution_count": 7,
     "metadata": {},
     "output_type": "execute_result"
    }
   ],
   "source": [
    "contornos, _ = cv2.findContours(maskRed, cv2.RETR_EXTERNAL,\n",
    "                                 cv2.CHAIN_APPROX_SIMPLE)\n",
    "cv2.drawContours(rosa, contornos, -1, (0,0,0), 3)\n",
    "\n",
    "cv2.imshow('Mascara Rojo', maskRed)\n",
    "cv2.imshow('Original', rosa)\n",
    "cv2.waitKey(0)"
   ]
  },
  {
   "cell_type": "markdown",
   "id": "9e9e2402",
   "metadata": {},
   "source": [
    "# Contornos en OpenCV\n",
    "Los contornos son aquellos puntos que rodean un objeto de interes dentro de una imagen. Los contornos se pueden explicar simplemente como una curva que uno todos los puntos continuos a lo largo de un limite que tiene el mismo color o intensidad.\n",
    "\n",
    "los contonrnos son una herramienta util para el analisis de formas y la detección y reconocimiento de objetos.\n"
   ]
  },
  {
   "cell_type": "code",
   "execution_count": 6,
   "id": "fd42a8b5",
   "metadata": {},
   "outputs": [
    {
     "data": {
      "text/plain": [
       "-1"
      ]
     },
     "execution_count": 6,
     "metadata": {},
     "output_type": "execute_result"
    }
   ],
   "source": [
    "img = cv2.imread('imagenes/rosas/calidad/IMG_20210322_140347.jpg')\n",
    "img = cv2.resize(img, (480, 550))\n",
    "img_gray1 = cv2.imread('imagenes/rosas/calidad/IMG_20210322_140347.jpg', 0)\n",
    "img_gray1 = cv2.resize(img_gray1, (480, 550))\n",
    "img_gray2 = cv2.cvtColor(img, cv2.COLOR_BGR2GRAY)\n",
    "img_gray2 = cv2.resize(img_gray2, (480, 550))\n",
    "cv2.imshow('gray with 0', img_gray1)\n",
    "cv2.imshow('gray with BGR2GRAY', img_gray2)\n",
    "cv2.waitKey(0)\n"
   ]
  }
 ],
 "metadata": {
  "kernelspec": {
   "display_name": "Python 3",
   "language": "python",
   "name": "python3"
  },
  "language_info": {
   "codemirror_mode": {
    "name": "ipython",
    "version": 3
   },
   "file_extension": ".py",
   "mimetype": "text/x-python",
   "name": "python",
   "nbconvert_exporter": "python",
   "pygments_lexer": "ipython3",
   "version": "3.8.8"
  }
 },
 "nbformat": 4,
 "nbformat_minor": 5
}
